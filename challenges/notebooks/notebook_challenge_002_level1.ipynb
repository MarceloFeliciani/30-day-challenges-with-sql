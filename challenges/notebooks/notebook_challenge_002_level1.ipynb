{
  "cells": [
    {
      "cell_type": "markdown",
      "id": "cc962f74",
      "metadata": {
        "id": "cc962f74"
      },
      "source": [
        "\n",
        "# Por favor tente resolver o desafio sozinho, não pegue atalhos, tu consegue, é só colocar a cabeça para funcionar."
      ]
    },
    {
      "cell_type": "markdown",
      "id": "481f2029",
      "metadata": {
        "id": "481f2029"
      },
      "source": [
        "Execute a célula abaixo apenas uma vez."
      ]
    },
    {
      "cell_type": "code",
      "execution_count": 1,
      "id": "5478638e",
      "metadata": {
        "id": "5478638e",
        "outputId": "97d92f0a-dea8-40d4-ae9d-44b9b19a32b1",
        "colab": {
          "base_uri": "https://localhost:8080/"
        }
      },
      "outputs": [
        {
          "output_type": "stream",
          "name": "stderr",
          "text": [
            "Cloning into '30-day-challenges-with-sql'...\n"
          ]
        }
      ],
      "source": [
        "%%bash\n",
        "\n",
        "rm -rf /tmp/github; mkdir -p /tmp/github; cd /tmp/github\n",
        "git clone https://github.com/romeritomorais/30-day-challenges-with-sql.git\n",
        "sh /tmp/github/30-day-challenges-with-sql/challenges/utils/install-miniconda.sh > /dev/null 2>&1\n",
        "sh /tmp/github/30-day-challenges-with-sql/challenges/utils/update-miniconda.sh > /dev/null 2>&1"
      ]
    },
    {
      "cell_type": "markdown",
      "id": "5d3a3a36",
      "metadata": {
        "id": "5d3a3a36"
      },
      "source": [
        "Nesse desafio super fácil, eu preciso dos registros onde o primeiro caracter seja o \"A\" e o terceiro \"e\" da coluna `FirstName`\n",
        "tu vai criar uma query que traga esse resultado e uma breve explicação da implementação do código e descrever a query abaixo:\n",
        "\n",
        "\n",
        "FirstName |\n",
        "-|\n",
        "Alexandre| \n",
        "\n",
        "Na celula onde tem `%%sql` tu vai escrever a query abaixo dela, exemplo:  \n",
        "```python\n",
        "%%sql\n",
        "select * from Customer\n",
        "```\n",
        "\n",
        "Para resolução tu podes usar a documentação do sqlite:https://www.sqlite.org/docs.html"
      ]
    },
    {
      "cell_type": "code",
      "execution_count": 2,
      "id": "5fc377e9",
      "metadata": {
        "id": "5fc377e9",
        "outputId": "311f69d1-a271-4cee-f9fa-da81f5b28135",
        "colab": {
          "base_uri": "https://localhost:8080/",
          "height": 36
        }
      },
      "outputs": [
        {
          "output_type": "execute_result",
          "data": {
            "text/plain": [
              "'Connected: @//tmp/github/30-day-challenges-with-sql/challenges/utils/db/database.db'"
            ],
            "application/vnd.google.colaboratory.intrinsic+json": {
              "type": "string"
            }
          },
          "metadata": {},
          "execution_count": 2
        }
      ],
      "source": [
        "%load_ext sql\n",
        "%sql sqlite://///tmp/github/30-day-challenges-with-sql/challenges/utils/db/database.db"
      ]
    },
    {
      "cell_type": "markdown",
      "id": "138054b1",
      "metadata": {
        "id": "138054b1"
      },
      "source": [
        "O método SUBSTRING() está comparando os índices inicial e final da coluna FirstName, e retornando a string encontrada"
      ]
    },
    {
      "cell_type": "code",
      "execution_count": 5,
      "id": "9e241d83",
      "metadata": {
        "id": "9e241d83",
        "outputId": "105fedca-af32-4e09-e693-8203d4feee55",
        "colab": {
          "base_uri": "https://localhost:8080/",
          "height": 264
        }
      },
      "outputs": [
        {
          "output_type": "stream",
          "name": "stdout",
          "text": [
            " * sqlite://///tmp/github/30-day-challenges-with-sql/challenges/utils/db/database.db\n",
            "Done.\n"
          ]
        },
        {
          "output_type": "execute_result",
          "data": {
            "text/plain": [
              "[(1, 'Luís', 'Gonçalves', 'Embraer - Empresa Brasileira de Aeronáutica S.A.', 'Av. Brigadeiro Faria Lima, 2170', 'São José dos Campos', 'SP', 'Brazil', '12227-000', '+55 (12) 3923-5555', '+55 (12) 3923-5566', 'luisg@embraer.com.br', 3),\n",
              " (2, 'Leonie', 'Köhler', None, 'Theodor-Heuss-Straße 34', 'Stuttgart', None, 'Germany', '70174', '+49 0711 2842222', None, 'leonekohler@surfeu.de', 5),\n",
              " (3, 'François', 'Tremblay', None, '1498 rue Bélanger', 'Montréal', 'QC', 'Canada', 'H2G 1A7', '+1 (514) 721-4711', None, 'ftremblay@gmail.com', 3),\n",
              " (4, 'Bjørn', 'Hansen', None, 'Ullevålsveien 14', 'Oslo', None, 'Norway', '0171', '+47 22 44 22 22', None, 'bjorn.hansen@yahoo.no', 4),\n",
              " (5, 'František', 'Wichterlová', 'JetBrains s.r.o.', 'Klanova 9/506', 'Prague', None, 'Czech Republic', '14700', '+420 2 4172 5555', '+420 2 4172 5555', 'frantisekw@jetbrains.com', 4)]"
            ],
            "text/html": [
              "<table>\n",
              "    <thead>\n",
              "        <tr>\n",
              "            <th>CustomerId</th>\n",
              "            <th>FirstName</th>\n",
              "            <th>LastName</th>\n",
              "            <th>Company</th>\n",
              "            <th>Address</th>\n",
              "            <th>City</th>\n",
              "            <th>State</th>\n",
              "            <th>Country</th>\n",
              "            <th>PostalCode</th>\n",
              "            <th>Phone</th>\n",
              "            <th>Fax</th>\n",
              "            <th>Email</th>\n",
              "            <th>SupportRepId</th>\n",
              "        </tr>\n",
              "    </thead>\n",
              "    <tbody>\n",
              "        <tr>\n",
              "            <td>1</td>\n",
              "            <td>Luís</td>\n",
              "            <td>Gonçalves</td>\n",
              "            <td>Embraer - Empresa Brasileira de Aeronáutica S.A.</td>\n",
              "            <td>Av. Brigadeiro Faria Lima, 2170</td>\n",
              "            <td>São José dos Campos</td>\n",
              "            <td>SP</td>\n",
              "            <td>Brazil</td>\n",
              "            <td>12227-000</td>\n",
              "            <td>+55 (12) 3923-5555</td>\n",
              "            <td>+55 (12) 3923-5566</td>\n",
              "            <td>luisg@embraer.com.br</td>\n",
              "            <td>3</td>\n",
              "        </tr>\n",
              "        <tr>\n",
              "            <td>2</td>\n",
              "            <td>Leonie</td>\n",
              "            <td>Köhler</td>\n",
              "            <td>None</td>\n",
              "            <td>Theodor-Heuss-Straße 34</td>\n",
              "            <td>Stuttgart</td>\n",
              "            <td>None</td>\n",
              "            <td>Germany</td>\n",
              "            <td>70174</td>\n",
              "            <td>+49 0711 2842222</td>\n",
              "            <td>None</td>\n",
              "            <td>leonekohler@surfeu.de</td>\n",
              "            <td>5</td>\n",
              "        </tr>\n",
              "        <tr>\n",
              "            <td>3</td>\n",
              "            <td>François</td>\n",
              "            <td>Tremblay</td>\n",
              "            <td>None</td>\n",
              "            <td>1498 rue Bélanger</td>\n",
              "            <td>Montréal</td>\n",
              "            <td>QC</td>\n",
              "            <td>Canada</td>\n",
              "            <td>H2G 1A7</td>\n",
              "            <td>+1 (514) 721-4711</td>\n",
              "            <td>None</td>\n",
              "            <td>ftremblay@gmail.com</td>\n",
              "            <td>3</td>\n",
              "        </tr>\n",
              "        <tr>\n",
              "            <td>4</td>\n",
              "            <td>Bjørn</td>\n",
              "            <td>Hansen</td>\n",
              "            <td>None</td>\n",
              "            <td>Ullevålsveien 14</td>\n",
              "            <td>Oslo</td>\n",
              "            <td>None</td>\n",
              "            <td>Norway</td>\n",
              "            <td>0171</td>\n",
              "            <td>+47 22 44 22 22</td>\n",
              "            <td>None</td>\n",
              "            <td>bjorn.hansen@yahoo.no</td>\n",
              "            <td>4</td>\n",
              "        </tr>\n",
              "        <tr>\n",
              "            <td>5</td>\n",
              "            <td>František</td>\n",
              "            <td>Wichterlová</td>\n",
              "            <td>JetBrains s.r.o.</td>\n",
              "            <td>Klanova 9/506</td>\n",
              "            <td>Prague</td>\n",
              "            <td>None</td>\n",
              "            <td>Czech Republic</td>\n",
              "            <td>14700</td>\n",
              "            <td>+420 2 4172 5555</td>\n",
              "            <td>+420 2 4172 5555</td>\n",
              "            <td>frantisekw@jetbrains.com</td>\n",
              "            <td>4</td>\n",
              "        </tr>\n",
              "    </tbody>\n",
              "</table>"
            ]
          },
          "metadata": {},
          "execution_count": 5
        }
      ],
      "source": [
        "%%sql\n",
        "SELECT * FROM Customer LIMIT 5"
      ]
    },
    {
      "cell_type": "code",
      "source": [
        "%%sql\n",
        "SELECT FirstName FROM Customer WHERE SUBSTR(FirstName, 1, 1) = 'A' AND SUBSTR(FirstName, 3, 1) = 'e'"
      ],
      "metadata": {
        "id": "i6-WMTYgrL82",
        "outputId": "d9ef5979-59b0-45b5-fdd7-a5faccb98a2f",
        "colab": {
          "base_uri": "https://localhost:8080/",
          "height": 95
        }
      },
      "id": "i6-WMTYgrL82",
      "execution_count": 7,
      "outputs": [
        {
          "output_type": "stream",
          "name": "stdout",
          "text": [
            " * sqlite://///tmp/github/30-day-challenges-with-sql/challenges/utils/db/database.db\n",
            "Done.\n"
          ]
        },
        {
          "output_type": "execute_result",
          "data": {
            "text/plain": [
              "[('Alexandre',)]"
            ],
            "text/html": [
              "<table>\n",
              "    <thead>\n",
              "        <tr>\n",
              "            <th>FirstName</th>\n",
              "        </tr>\n",
              "    </thead>\n",
              "    <tbody>\n",
              "        <tr>\n",
              "            <td>Alexandre</td>\n",
              "        </tr>\n",
              "    </tbody>\n",
              "</table>"
            ]
          },
          "metadata": {},
          "execution_count": 7
        }
      ]
    }
  ],
  "metadata": {
    "kernelspec": {
      "display_name": "Python 3",
      "language": "python",
      "name": "python3"
    },
    "language_info": {
      "codemirror_mode": {
        "name": "ipython",
        "version": 3
      },
      "file_extension": ".py",
      "mimetype": "text/x-python",
      "name": "python",
      "nbconvert_exporter": "python",
      "pygments_lexer": "ipython3",
      "version": "3.10.4"
    },
    "colab": {
      "name": "notebook_challenge_002_level1.ipynb",
      "provenance": []
    }
  },
  "nbformat": 4,
  "nbformat_minor": 5
}